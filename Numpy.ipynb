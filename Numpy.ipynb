{
 "cells": [
  {
   "cell_type": "code",
   "execution_count": 1,
   "id": "5204b6d6",
   "metadata": {},
   "outputs": [],
   "source": [
    "import numpy as np\n",
    "from numpy import ndarray"
   ]
  },
  {
   "cell_type": "markdown",
   "id": "c3eb4e38",
   "metadata": {},
   "source": [
    "Calculations that can be performed"
   ]
  },
  {
   "cell_type": "code",
   "execution_count": 2,
   "id": "06211a64",
   "metadata": {},
   "outputs": [
    {
     "name": "stdout",
     "output_type": "stream",
     "text": [
      "Welcome to Matrix Calculator. Choose any of the following options\n",
      "\n",
      "(1) To add matrices\n",
      "(2) To multiply matrices\n",
      "(3) To find the inverse of a matrix\n",
      "(5) To find the determinant of a matrix\n",
      "(6) To find the eigenvalues & eigenvectors of a matrix\n",
      "\n"
     ]
    }
   ],
   "source": [
    "print(\"Welcome to Matrix Calculator. Choose any of the following options\")\n",
    "print()\n",
    "print(\"(1) To add matrices\")\n",
    "print(\"(2) To multiply matrices\")\n",
    "print(\"(3) To find the inverse of a matrix\")\n",
    "print(\"(5) To find the determinant of a matrix\")\n",
    "print(\"(6) To find the eigenvalues & eigenvectors of a matrix\")\n",
    "print()\n",
    "choice = int(input())"
   ]
  },
  {
   "cell_type": "markdown",
   "id": "67888ef2",
   "metadata": {},
   "source": [
    "Some Necessary Functions"
   ]
  },
  {
   "cell_type": "code",
   "execution_count": null,
   "id": "9de8f39c",
   "metadata": {},
   "outputs": [],
   "source": [
    "#Matrix Extractor for user input - not required\n",
    "'''def array_extractor(A: list):\n",
    "    rows, columns = len(A), len(A[0])\n",
    "    arr = np.empty(shape=(rows, columns))\n",
    "\n",
    "    for row in range(rows):\n",
    "        for column in range(columns):\n",
    "            arr[row, column] = A[row][column]\n",
    "    \n",
    "    return arr'''\n",
    "\n",
    "#Dimension checker for addition of matrices\n",
    "def dim_check_add(A: ndarray, B: ndarray) -> bool:\n",
    "        if A.shape == B.shape:\n",
    "            return True\n",
    "        return False\n",
    "\n",
    "#Dimension checker for multiplication of matrices\n",
    "def dim_check_mul(A: ndarray, B: ndarray) -> bool:\n",
    "    rows_B, columns_A = A.shape[1], B.shape[0]\n",
    "    if rows_B == columns_A:\n",
    "         return True\n",
    "    return False\n",
    "\n",
    "#Check if determinant is possible\n",
    "def is_square(A: ndarray):\n",
    "     if A.shape[0] == A.shape[1]:\n",
    "          return True\n",
    "     return False\n",
    "\n",
    "#Check if inverse is possible\n",
    "def is_invertible(A: ndarray):\n",
    "     if is_square(A) and np.linalg.det(A) != 0:\n",
    "          return True\n",
    "     return False          \n",
    "          "
   ]
  },
  {
   "cell_type": "markdown",
   "id": "89552a28",
   "metadata": {},
   "source": [
    "ADDITION"
   ]
  },
  {
   "cell_type": "code",
   "execution_count": 14,
   "id": "38af910e",
   "metadata": {},
   "outputs": [
    {
     "name": "stdout",
     "output_type": "stream",
     "text": [
      "Enter a row of a matrix, separarted by space, in the input field\n",
      "Enter x to stop entering the rows for a matrix\n",
      "\n",
      "Matrix 1\n",
      "[[1 2 3]\n",
      " [4 5 6]]\n",
      "\n",
      "Matrix 2\n",
      "[[1 2 3]\n",
      " [4 5 6]]\n",
      "\n",
      "Sum:  [[ 2.  4.  6.]\n",
      " [ 8. 10. 12.]]\n"
     ]
    }
   ],
   "source": [
    "if choice == 1:\n",
    "    #No. of matrices\n",
    "    num = int(input(\"How many matrices do you have? \"))\n",
    "\n",
    "    print(\"Enter a row of a matrix, separarted by space, in the input field\")\n",
    "    print(\"Enter x to stop entering the rows for a matrix\")\n",
    "    print()\n",
    "\n",
    "    row_count = 0   #To show user the row number he is entering\n",
    "    mtx = []    #For extracting the matrices\n",
    "\n",
    "    #Asking for num matrices\n",
    "    for i in range(num):\n",
    "        print(f\"Matrix {i+1}\")\n",
    "        \n",
    "        #Asking for rows of the matrix\n",
    "        while True:\n",
    "            row_count += 1\n",
    "            row = input(f\"Enter row {row_count}: \")\n",
    "\n",
    "            #Checking if he wants to terminate entering rows\n",
    "            if row.lower() == 'x':\n",
    "                break\n",
    "            \n",
    "            elements = row.split()  #Each element of the row\n",
    "            elements = list(map(int, elements)) #Converting the elements to integer\n",
    "            mtx.append(elements)    #Appending each row to mtx to finally extract the mtx\n",
    "\n",
    "        #Initialising mtx_add\n",
    "        if i==0:\n",
    "            rows, columns = row_count-1, len(elements)\n",
    "            mtx_add = np.zeros(shape = (rows, columns))\n",
    "\n",
    "        arr = np.array(mtx) #Converting list to array\n",
    "\n",
    "        #Checking dimensions\n",
    "        if dim_check_add(mtx_add, arr):\n",
    "            mtx_add += arr\n",
    "        else:\n",
    "            print(\"The matrices are not of the same dimension\")\n",
    "        \n",
    "        row_count, mtx = 0, []  #Initial conditions\n",
    "\n",
    "        print(arr)\n",
    "        print()\n",
    "    \n",
    "    print(\"Sum: \", mtx_add)\n",
    "\n",
    "    \n",
    "    '''arr = np.array(eval(input(\"Enter matrix 1: \")))\n",
    "\n",
    "    #Using mtx_add for summing matrices and assigning 1st array value to mtx_add\n",
    "    mtx_add = arr\n",
    "    count = 2  #count variable for telling user the array number that he is entering\n",
    "\n",
    "    #Continuing the loop until user exits\n",
    "    while True:\n",
    "        inp = eval(input(f\"Enter matrix {count}: \"))\n",
    "\n",
    "        #If user wants to stop entering arrays\n",
    "        if type(inp) == str:\n",
    "            if inp.lower() == 'x':\n",
    "                break\n",
    "            else:\n",
    "                print(\"Invalid Input\")\n",
    "                continue\n",
    "        \n",
    "        #Making numpy array from user input\n",
    "        arr = np.array(inp)\n",
    "\n",
    "        #Checking whether arrays have same dimension\n",
    "        if dim_check_add(mtx_add, arr):\n",
    "            mtx_add += arr\n",
    "        else:\n",
    "            print(\"ERROR! The arrays are not of same dimension\")\n",
    "            print()\n",
    "            continue\n",
    "\n",
    "        count += 1  #incrementing count'''\n",
    "\n",
    "    \n",
    "    "
   ]
  },
  {
   "cell_type": "code",
   "execution_count": 6,
   "id": "b1897728",
   "metadata": {},
   "outputs": [
    {
     "data": {
      "text/plain": [
       "(2, 3)"
      ]
     },
     "execution_count": 6,
     "metadata": {},
     "output_type": "execute_result"
    }
   ],
   "source": [
    "arr_1 = np.array([[1,2,3], [4,5,6]])\n",
    "arr_2 = [[1,3,5], [5,7,9]]\n",
    "arr_1.shape"
   ]
  },
  {
   "cell_type": "code",
   "execution_count": null,
   "id": "e43abce2",
   "metadata": {},
   "outputs": [
    {
     "name": "stdout",
     "output_type": "stream",
     "text": [
      "[[1 2 3 4]\n",
      " [1 3 5 7]]\n"
     ]
    }
   ],
   "source": []
  },
  {
   "cell_type": "code",
   "execution_count": null,
   "id": "b7bec682",
   "metadata": {},
   "outputs": [
    {
     "name": "stdout",
     "output_type": "stream",
     "text": [
      "[1, 2, 3, 4]\n"
     ]
    }
   ],
   "source": []
  },
  {
   "cell_type": "code",
   "execution_count": null,
   "id": "a20b230d",
   "metadata": {},
   "outputs": [],
   "source": []
  }
 ],
 "metadata": {
  "kernelspec": {
   "display_name": "DSML",
   "language": "python",
   "name": "python3"
  },
  "language_info": {
   "codemirror_mode": {
    "name": "ipython",
    "version": 3
   },
   "file_extension": ".py",
   "mimetype": "text/x-python",
   "name": "python",
   "nbconvert_exporter": "python",
   "pygments_lexer": "ipython3",
   "version": "3.12.4"
  }
 },
 "nbformat": 4,
 "nbformat_minor": 5
}
