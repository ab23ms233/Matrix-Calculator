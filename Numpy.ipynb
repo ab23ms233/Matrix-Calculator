{
 "cells": [
  {
   "cell_type": "code",
   "execution_count": 1,
   "id": "5204b6d6",
   "metadata": {},
   "outputs": [],
   "source": [
    "import numpy as np\n",
    "from numpy import ndarray"
   ]
  },
  {
   "cell_type": "markdown",
   "id": "c3eb4e38",
   "metadata": {},
   "source": [
    "Calculations that can be performed"
   ]
  },
  {
   "cell_type": "code",
   "execution_count": 11,
   "id": "06211a64",
   "metadata": {},
   "outputs": [
    {
     "name": "stdout",
     "output_type": "stream",
     "text": [
      "Welcome to Matrix Calculator. Choose any of the following options\n",
      "\n",
      "(1) To add matrices\n",
      "(2) To multiply matrices\n",
      "(3) To find the inverse of a matrix\n",
      "(5) To find the determinant of a matrix\n",
      "(6) To find the eigenvalues & eigenvectors of a matrix\n",
      "\n"
     ]
    }
   ],
   "source": [
    "print(\"Welcome to Matrix Calculator. Choose any of the following options\")\n",
    "print()\n",
    "print(\"(1) To add matrices\")\n",
    "print(\"(2) To multiply matrices\")\n",
    "print(\"(3) To find the inverse of a matrix\")\n",
    "print(\"(5) To find the determinant of a matrix\")\n",
    "print(\"(6) To find the eigenvalues & eigenvectors of a matrix\")\n",
    "print()\n",
    "choice = int(input())\n",
    "\n",
    "intro_text = \"Enter a row of a matrix, separarted by space, in the input field\\nEnter x to stop entering the rows for a matrix\""
   ]
  },
  {
   "cell_type": "markdown",
   "id": "67888ef2",
   "metadata": {},
   "source": [
    "Some Necessary Functions"
   ]
  },
  {
   "cell_type": "code",
   "execution_count": 21,
   "id": "9de8f39c",
   "metadata": {},
   "outputs": [],
   "source": [
    "#Matrix Extractor for user input\n",
    "def matrix_extractor() -> tuple:\n",
    "    \"\"\"\n",
    "    Asks for a matrix from the user in the form of rows for 1 input field\n",
    "\n",
    "    Returns:\n",
    "    tuple: (The array entered by the user, (dimensions of the array))\n",
    "    \"\"\"\n",
    "    row_count, mtx = 0, []\n",
    "\n",
    "    #Asking for rows of the matrix\n",
    "    while True:\n",
    "        row_count += 1  #Incrementing row_count\n",
    "        row = input(f\"Enter row {row_count}: \")\n",
    "\n",
    "        #Checking if user wants to terminate entering rows\n",
    "        if row.lower() == 'x':\n",
    "            break\n",
    "        \n",
    "        elements = row.split()  #Each element of the row\n",
    "        elements = list(map(int, elements)) #Converting the elements to integer\n",
    "        mtx.append(elements)    #Appending each row to mtx to finally extract the mtx\n",
    "          \n",
    "    arr = np.array(mtx)\n",
    "    return (arr, arr.shape)\n",
    "\n",
    "#Dimension checker for addition of matrices\n",
    "def dim_check_add(A: ndarray, B: ndarray) -> bool:\n",
    "    \"\"\"\n",
    "    Checks if the dimensions of 2 matrices to be added are correct\n",
    "    Parameters:\n",
    "    A(ndarray): 1st array\n",
    "    B(ndarray): 2nd array\n",
    "    Returns:\n",
    "    bool: True if correct; False otherwise\n",
    "    \"\"\"\n",
    "    if A.shape == B.shape:\n",
    "        return True\n",
    "    return False\n",
    "\n",
    "#Dimension checker for multiplication of matrices\n",
    "def dim_check_mul(A: ndarray, B: ndarray) -> bool:\n",
    "    \"\"\"\n",
    "    Checks if the dimensions of 2 matrices to be multiplied are correct\n",
    "\n",
    "    Parameters:\n",
    "    A(ndarray): 1st array\n",
    "    B(ndarray): 2nd array\n",
    "\n",
    "    Returns:\n",
    "    bool: True if correct; False otherwise\n",
    "    \"\"\"\n",
    "    rows_B, columns_A = A.shape[1], B.shape[0]\n",
    "    if rows_B == columns_A:\n",
    "         return True\n",
    "    return False\n",
    "\n",
    "#Check if determinant is possible\n",
    "def is_square(A: ndarray):\n",
    "    \"\"\"\n",
    "    Checks if it is a square matrix\n",
    "    Parameters:\n",
    "    A(ndarray): array to be checked\n",
    "    Returns:\n",
    "    bool: True if square; False otherwise\n",
    "    \"\"\"\n",
    "    if A.shape[0] == A.shape[1]:\n",
    "         return True\n",
    "    return False\n",
    "\n",
    "#Check if inverse is possible\n",
    "def is_invertible(A: ndarray):\n",
    "    \"\"\"\n",
    "    Checks if inverse is possible\n",
    "    Parameters:\n",
    "    A(ndarray): array to be checked\n",
    "    Returns:\n",
    "    bool: True if possible; False otherwise\n",
    "    \"\"\"\n",
    "    if is_square(A) and np.linalg.det(A) != 0:\n",
    "         return True\n",
    "    return False          \n",
    "          "
   ]
  },
  {
   "cell_type": "markdown",
   "id": "deee1a94",
   "metadata": {},
   "source": [
    "Function for Addition/Multiplication"
   ]
  },
  {
   "cell_type": "code",
   "execution_count": 22,
   "id": "24fafb25",
   "metadata": {},
   "outputs": [],
   "source": [
    "def add_multiply(dim_checker, is_add: bool):\n",
    "    \"\"\"\n",
    "    dim_checker(function): The dimension checking function\n",
    "    is_add(bool): True for addition; False for multiplication\n",
    "    \"\"\"\n",
    "\n",
    "    num = int(input(\"How many matrices do you have? \")) #No. of matrices\n",
    "\n",
    "    print(intro_text)\n",
    "    print()\n",
    "\n",
    "    #Asking for num no. of matrices\n",
    "    for i in range(num):\n",
    "        print(f\"Matrix {i+1}\")\n",
    "\n",
    "        arr, shape = matrix_extractor()\n",
    "        rows, columns = shape\n",
    "        print(arr)\n",
    "        print()\n",
    "        \n",
    "        #Initialising result_mtx once\n",
    "        if i==0:\n",
    "            if is_add == True:\n",
    "                result_mtx = np.zeros(shape = (rows, columns))  #Initial zero mtx for addition\n",
    "            else:\n",
    "                result_mtx = np.identity(rows)   #Initial identity mtc for multiplication\n",
    "\n",
    "        #Checking dimensions\n",
    "        if dim_checker(result_mtx, arr):\n",
    "            if is_add == True:\n",
    "                result_mtx += arr\n",
    "            else:\n",
    "                result_mtx = result_mtx@arr\n",
    "        else:\n",
    "            return \"The matrices are not of correct dimensions\"\n",
    "    \n",
    "    return result_mtx"
   ]
  },
  {
   "cell_type": "markdown",
   "id": "56954659",
   "metadata": {},
   "source": [
    "Addition/Multiplication"
   ]
  },
  {
   "cell_type": "code",
   "execution_count": 23,
   "id": "341d2835",
   "metadata": {},
   "outputs": [
    {
     "name": "stdout",
     "output_type": "stream",
     "text": [
      "Enter a row of a matrix, separarted by space, in the input field\n",
      "Enter x to stop entering the rows for a matrix\n",
      "\n",
      "Matrix 1\n",
      "[[1 2 3]]\n",
      "\n",
      "Matrix 2\n",
      "[[1]\n",
      " [2]\n",
      " [3]]\n",
      "\n",
      "[[14.]]\n"
     ]
    }
   ],
   "source": [
    "if choice == 1: #Addition\n",
    "    result = add_multiply(dim_checker=dim_check_add, is_add=True)\n",
    "    print(result)\n",
    "\n",
    "elif choice == 2:   #Multiplication\n",
    "    result = add_multiply(dim_checker=dim_check_mul, is_add=False)\n",
    "    print(result)"
   ]
  },
  {
   "cell_type": "markdown",
   "id": "98c8ce31",
   "metadata": {},
   "source": [
    "User Enters the entire matrix in 1 input cell"
   ]
  },
  {
   "cell_type": "code",
   "execution_count": null,
   "id": "f57f605b",
   "metadata": {},
   "outputs": [],
   "source": [
    "'''arr = np.array(eval(input(\"Enter matrix 1: \")))\n",
    "\n",
    "    #Using mtx_add for summing matrices and assigning 1st array value to mtx_add\n",
    "    mtx_add = arr\n",
    "    count = 2  #count variable for telling user the array number that he is entering\n",
    "\n",
    "    #Continuing the loop until user exits\n",
    "    while True:\n",
    "        inp = eval(input(f\"Enter matrix {count}: \"))\n",
    "\n",
    "        #If user wants to stop entering arrays\n",
    "        if type(inp) == str:\n",
    "            if inp.lower() == 'x':\n",
    "                break\n",
    "            else:\n",
    "                print(\"Invalid Input\")\n",
    "                continue\n",
    "        \n",
    "        #Making numpy array from user input\n",
    "        arr = np.array(inp)\n",
    "\n",
    "        #Checking whether arrays have same dimension\n",
    "        if dim_check_add(mtx_add, arr):\n",
    "            mtx_add += arr\n",
    "        else:\n",
    "            print(\"ERROR! The arrays are not of same dimension\")\n",
    "            print()\n",
    "            continue\n",
    "\n",
    "        count += 1  #incrementing count'''"
   ]
  },
  {
   "cell_type": "markdown",
   "id": "b3b58f70",
   "metadata": {},
   "source": [
    "Inverse"
   ]
  },
  {
   "cell_type": "code",
   "execution_count": null,
   "id": "953e1b28",
   "metadata": {},
   "outputs": [
    {
     "ename": "SyntaxError",
     "evalue": "invalid syntax (2229601356.py, line 2)",
     "output_type": "error",
     "traceback": [
      "\u001b[1;36m  Cell \u001b[1;32mIn[18], line 2\u001b[1;36m\u001b[0m\n\u001b[1;33m    if is\u001b[0m\n\u001b[1;37m       ^\u001b[0m\n\u001b[1;31mSyntaxError\u001b[0m\u001b[1;31m:\u001b[0m invalid syntax\n"
     ]
    }
   ],
   "source": [
    "def inverse(matrix: ndarray):\n",
    "    if is_invertible(matrix):\n",
    "        return np.linalg.inv(matrix)\n",
    "    elif not is_square(matrix):\n",
    "        return \"The matrix is not square so determinant cannot be calculated\"\n",
    "    else:\n",
    "        return \"Matrix is not invertible as determinant is 0\"\n",
    "    \n"
   ]
  },
  {
   "cell_type": "code",
   "execution_count": 6,
   "id": "b1897728",
   "metadata": {},
   "outputs": [
    {
     "data": {
      "text/plain": [
       "(2, 3)"
      ]
     },
     "execution_count": 6,
     "metadata": {},
     "output_type": "execute_result"
    }
   ],
   "source": [
    "arr_1 = np.array([[1,2,3], [4,5,6]])\n",
    "arr_2 = [[1,3,5], [5,7,9]]\n",
    "arr_1.shape"
   ]
  },
  {
   "cell_type": "code",
   "execution_count": 8,
   "id": "e43abce2",
   "metadata": {},
   "outputs": [
    {
     "name": "stdout",
     "output_type": "stream",
     "text": [
      "6\n"
     ]
    }
   ],
   "source": [
    "def add(a, b):\n",
    "    return a+b\n",
    "\n",
    "def applier(func, a, b):\n",
    "    return func(a,b)\n",
    "\n",
    "print(applier(add, 2, 4))"
   ]
  },
  {
   "cell_type": "code",
   "execution_count": null,
   "id": "b7bec682",
   "metadata": {},
   "outputs": [
    {
     "name": "stdout",
     "output_type": "stream",
     "text": [
      "[1, 2, 3, 4]\n"
     ]
    }
   ],
   "source": []
  },
  {
   "cell_type": "code",
   "execution_count": null,
   "id": "a20b230d",
   "metadata": {},
   "outputs": [],
   "source": []
  }
 ],
 "metadata": {
  "kernelspec": {
   "display_name": "DSML",
   "language": "python",
   "name": "python3"
  },
  "language_info": {
   "codemirror_mode": {
    "name": "ipython",
    "version": 3
   },
   "file_extension": ".py",
   "mimetype": "text/x-python",
   "name": "python",
   "nbconvert_exporter": "python",
   "pygments_lexer": "ipython3",
   "version": "3.12.4"
  }
 },
 "nbformat": 4,
 "nbformat_minor": 5
}
