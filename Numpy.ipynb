{
 "cells": [
  {
   "cell_type": "code",
   "execution_count": 1,
   "id": "5204b6d6",
   "metadata": {},
   "outputs": [],
   "source": [
    "import numpy as np\n",
    "from numpy import ndarray"
   ]
  },
  {
   "cell_type": "markdown",
   "id": "c3eb4e38",
   "metadata": {},
   "source": [
    "Calculations that can be performed"
   ]
  },
  {
   "cell_type": "code",
   "execution_count": 3,
   "id": "06211a64",
   "metadata": {},
   "outputs": [
    {
     "name": "stdout",
     "output_type": "stream",
     "text": [
      "Welcome to Matrix Calculator. Choose any of the following options\n",
      "\n",
      "(1) To add matrices\n",
      "(2) To multiply matrices\n",
      "(3) To find the inverse of a matrix\n",
      "(5) To find the determinant of a matrix\n",
      "(6) To find the eigenvalues & eigenvectors of a matrix\n",
      "\n"
     ]
    },
    {
     "name": "stdin",
     "output_type": "stream",
     "text": [
      " 1\n"
     ]
    }
   ],
   "source": [
    "print(\"Welcome to Matrix Calculator. Choose any of the following options\")\n",
    "print()\n",
    "print(\"(1) To add matrices\")\n",
    "print(\"(2) To multiply matrices\")\n",
    "print(\"(3) To find the inverse of a matrix\")\n",
    "print(\"(5) To find the determinant of a matrix\")\n",
    "print(\"(6) To find the eigenvalues & eigenvectors of a matrix\")\n",
    "print()\n",
    "choice = int(input())"
   ]
  },
  {
   "cell_type": "markdown",
   "id": "67888ef2",
   "metadata": {},
   "source": [
    "Some Necessary Functions"
   ]
  },
  {
   "cell_type": "code",
   "execution_count": 4,
   "id": "9de8f39c",
   "metadata": {},
   "outputs": [],
   "source": [
    "#Matrix Extractor for user input - not required\n",
    "'''def array_extractor(A: list):\n",
    "    rows, columns = len(A), len(A[0])\n",
    "    arr = np.empty(shape=(rows, columns))\n",
    "\n",
    "    for row in range(rows):\n",
    "        for column in range(columns):\n",
    "            arr[row, column] = A[row][column]\n",
    "    \n",
    "    return arr'''\n",
    "\n",
    "#Dimension checker for addition of matrices\n",
    "def dim_check_add(A: ndarray, B: ndarray):\n",
    "        if A.shape == B.shape:\n",
    "            return True\n",
    "        return False\n",
    "\n",
    "#Dimension checker for multiplication of matrices\n",
    "def dim_check_mul(A: ndarray, B: ndarray):\n",
    "    rows_B, columns_A = A.shape[1], B.shape[0]\n",
    "    if rows_B == columns_A:\n",
    "         return True\n",
    "    return False\n",
    "\n",
    "#Check if determinant is possible\n",
    "def is_square(A: ndarray):\n",
    "     if A.shape[0] == A.shape[1]:\n",
    "          return True\n",
    "     return False\n",
    "\n",
    "#Check if inverse is possible\n",
    "def is_invertible(A: ndarray):\n",
    "     if is_square(A) and np.linalg.det(A) != 0:\n",
    "          return True\n",
    "     return False          \n",
    "          "
   ]
  },
  {
   "cell_type": "markdown",
   "id": "89552a28",
   "metadata": {},
   "source": [
    "ADDITION"
   ]
  },
  {
   "cell_type": "code",
   "execution_count": 6,
   "id": "38af910e",
   "metadata": {},
   "outputs": [
    {
     "name": "stdin",
     "output_type": "stream",
     "text": [
      "How many matrices do you have?  2\n"
     ]
    },
    {
     "name": "stdout",
     "output_type": "stream",
     "text": [
      "Enter a row of a matrix, separarted by space, in the input field\n",
      "Enter x to stop entering the rows for a matrix\n",
      "\n",
      "Matrix 1\n"
     ]
    },
    {
     "name": "stdin",
     "output_type": "stream",
     "text": [
      "Enter row 1:  1 2 3\n",
      "Enter row 2:  4 5 6\n",
      "Enter row 3:  x\n"
     ]
    },
    {
     "name": "stdout",
     "output_type": "stream",
     "text": [
      "The matrices are not of the same dimension\n",
      "\n",
      "Matrix 2\n"
     ]
    },
    {
     "ename": "KeyboardInterrupt",
     "evalue": "Interrupted by user",
     "output_type": "error",
     "traceback": [
      "\u001b[1;31m---------------------------------------------------------------------------\u001b[0m",
      "\u001b[1;31mKeyboardInterrupt\u001b[0m                         Traceback (most recent call last)",
      "Cell \u001b[1;32mIn[6], line 16\u001b[0m\n\u001b[0;32m     14\u001b[0m \u001b[38;5;28;01mwhile\u001b[39;00m \u001b[38;5;28;01mTrue\u001b[39;00m:\n\u001b[0;32m     15\u001b[0m     row_count \u001b[38;5;241m+\u001b[39m\u001b[38;5;241m=\u001b[39m \u001b[38;5;241m1\u001b[39m\n\u001b[1;32m---> 16\u001b[0m     row \u001b[38;5;241m=\u001b[39m \u001b[38;5;28minput\u001b[39m(\u001b[38;5;124mf\u001b[39m\u001b[38;5;124m\"\u001b[39m\u001b[38;5;124mEnter row \u001b[39m\u001b[38;5;132;01m{\u001b[39;00mrow_count\u001b[38;5;132;01m}\u001b[39;00m\u001b[38;5;124m: \u001b[39m\u001b[38;5;124m\"\u001b[39m)\n\u001b[0;32m     18\u001b[0m     \u001b[38;5;28;01mif\u001b[39;00m row\u001b[38;5;241m.\u001b[39mlower() \u001b[38;5;241m==\u001b[39m \u001b[38;5;124m'\u001b[39m\u001b[38;5;124mx\u001b[39m\u001b[38;5;124m'\u001b[39m:\n\u001b[0;32m     19\u001b[0m         \u001b[38;5;28;01mbreak\u001b[39;00m\n",
      "File \u001b[1;32m~\\miniconda3\\envs\\DSML\\Lib\\site-packages\\ipykernel\\kernelbase.py:1262\u001b[0m, in \u001b[0;36mKernel.raw_input\u001b[1;34m(self, prompt)\u001b[0m\n\u001b[0;32m   1260\u001b[0m     msg \u001b[38;5;241m=\u001b[39m \u001b[38;5;124m\"\u001b[39m\u001b[38;5;124mraw_input was called, but this frontend does not support input requests.\u001b[39m\u001b[38;5;124m\"\u001b[39m\n\u001b[0;32m   1261\u001b[0m     \u001b[38;5;28;01mraise\u001b[39;00m StdinNotImplementedError(msg)\n\u001b[1;32m-> 1262\u001b[0m \u001b[38;5;28;01mreturn\u001b[39;00m \u001b[38;5;28mself\u001b[39m\u001b[38;5;241m.\u001b[39m_input_request(\n\u001b[0;32m   1263\u001b[0m     \u001b[38;5;28mstr\u001b[39m(prompt),\n\u001b[0;32m   1264\u001b[0m     \u001b[38;5;28mself\u001b[39m\u001b[38;5;241m.\u001b[39m_parent_ident[\u001b[38;5;124m\"\u001b[39m\u001b[38;5;124mshell\u001b[39m\u001b[38;5;124m\"\u001b[39m],\n\u001b[0;32m   1265\u001b[0m     \u001b[38;5;28mself\u001b[39m\u001b[38;5;241m.\u001b[39mget_parent(\u001b[38;5;124m\"\u001b[39m\u001b[38;5;124mshell\u001b[39m\u001b[38;5;124m\"\u001b[39m),\n\u001b[0;32m   1266\u001b[0m     password\u001b[38;5;241m=\u001b[39m\u001b[38;5;28;01mFalse\u001b[39;00m,\n\u001b[0;32m   1267\u001b[0m )\n",
      "File \u001b[1;32m~\\miniconda3\\envs\\DSML\\Lib\\site-packages\\ipykernel\\kernelbase.py:1305\u001b[0m, in \u001b[0;36mKernel._input_request\u001b[1;34m(self, prompt, ident, parent, password)\u001b[0m\n\u001b[0;32m   1302\u001b[0m \u001b[38;5;28;01mexcept\u001b[39;00m \u001b[38;5;167;01mKeyboardInterrupt\u001b[39;00m:\n\u001b[0;32m   1303\u001b[0m     \u001b[38;5;66;03m# re-raise KeyboardInterrupt, to truncate traceback\u001b[39;00m\n\u001b[0;32m   1304\u001b[0m     msg \u001b[38;5;241m=\u001b[39m \u001b[38;5;124m\"\u001b[39m\u001b[38;5;124mInterrupted by user\u001b[39m\u001b[38;5;124m\"\u001b[39m\n\u001b[1;32m-> 1305\u001b[0m     \u001b[38;5;28;01mraise\u001b[39;00m \u001b[38;5;167;01mKeyboardInterrupt\u001b[39;00m(msg) \u001b[38;5;28;01mfrom\u001b[39;00m \u001b[38;5;28;01mNone\u001b[39;00m\n\u001b[0;32m   1306\u001b[0m \u001b[38;5;28;01mexcept\u001b[39;00m \u001b[38;5;167;01mException\u001b[39;00m:\n\u001b[0;32m   1307\u001b[0m     \u001b[38;5;28mself\u001b[39m\u001b[38;5;241m.\u001b[39mlog\u001b[38;5;241m.\u001b[39mwarning(\u001b[38;5;124m\"\u001b[39m\u001b[38;5;124mInvalid Message:\u001b[39m\u001b[38;5;124m\"\u001b[39m, exc_info\u001b[38;5;241m=\u001b[39m\u001b[38;5;28;01mTrue\u001b[39;00m)\n",
      "\u001b[1;31mKeyboardInterrupt\u001b[0m: Interrupted by user"
     ]
    }
   ],
   "source": [
    "if choice == 1:\n",
    "\n",
    "    num = int(input(\"How many matrices do you have? \"))\n",
    "    print(\"Enter a row of a matrix, separarted by space, in the input field\")\n",
    "    print(\"Enter x to stop entering the rows for a matrix\")\n",
    "    print()\n",
    "    count = num\n",
    "    row_count = 0\n",
    "    mtx = []\n",
    "\n",
    "    for i in range(num):\n",
    "        print(f\"Matrix {i+1}\")\n",
    "        \n",
    "        while True:\n",
    "            row_count += 1\n",
    "            row = input(f\"Enter row {row_count}: \")\n",
    "\n",
    "            if row.lower() == 'x':\n",
    "                break\n",
    "\n",
    "            elements = row.split()\n",
    "            elements = list(map(int, elements))\n",
    "            mtx.append(elements)\n",
    "\n",
    "        if i==0:\n",
    "            rows, columns = row_count, len(elements)\n",
    "            mtx_add = np.empty(shape = (rows, columns))\n",
    "        \n",
    "        arr = np.array(mtx)\n",
    "\n",
    "        if dim_check_add(mtx_add, arr):\n",
    "            mtx_add += arr\n",
    "        else:\n",
    "            print(\"The matrices are not of the same dimension\")\n",
    "        \n",
    "        print()\n",
    "    \n",
    "    print(\"Sum: \", mtx_add)\n",
    "\n",
    "    \n",
    "    '''arr = np.array(eval(input(\"Enter matrix 1: \")))\n",
    "\n",
    "    #Using mtx_add for summing matrices and assigning 1st array value to mtx_add\n",
    "    mtx_add = arr\n",
    "    count = 2  #count variable for telling user the array number that he is entering\n",
    "\n",
    "    #Continuing the loop until user exits\n",
    "    while True:\n",
    "        inp = eval(input(f\"Enter matrix {count}: \"))\n",
    "\n",
    "        #If user wants to stop entering arrays\n",
    "        if type(inp) == str:\n",
    "            if inp.lower() == 'x':\n",
    "                break\n",
    "            else:\n",
    "                print(\"Invalid Input\")\n",
    "                continue\n",
    "        \n",
    "        #Making numpy array from user input\n",
    "        arr = np.array(inp)\n",
    "\n",
    "        #Checking whether arrays have same dimension\n",
    "        if dim_check_add(mtx_add, arr):\n",
    "            mtx_add += arr\n",
    "        else:\n",
    "            print(\"ERROR! The arrays are not of same dimension\")\n",
    "            print()\n",
    "            continue\n",
    "\n",
    "        count += 1  #incrementing count'''\n",
    "\n",
    "    \n",
    "    "
   ]
  },
  {
   "cell_type": "code",
   "execution_count": null,
   "id": "b1897728",
   "metadata": {},
   "outputs": [
    {
     "data": {
      "text/plain": [
       "0.7205061947899576"
      ]
     },
     "execution_count": 8,
     "metadata": {},
     "output_type": "execute_result"
    }
   ],
   "source": [
    "arr_1 = [[1,2,3], [4,5,6]]\n",
    "arr_2 = [[1,3,5], [5,7,9]]"
   ]
  },
  {
   "cell_type": "code",
   "execution_count": 11,
   "id": "e43abce2",
   "metadata": {},
   "outputs": [
    {
     "name": "stdout",
     "output_type": "stream",
     "text": [
      "[[1 2 3 4]\n",
      " [1 3 5 7]]\n"
     ]
    }
   ],
   "source": [
    "arr = eval(input(\"Enter array: \"))\n",
    "print(np.array(arr))"
   ]
  },
  {
   "cell_type": "code",
   "execution_count": 8,
   "id": "b7bec682",
   "metadata": {},
   "outputs": [
    {
     "name": "stdout",
     "output_type": "stream",
     "text": [
      "[1, 2, 3, 4]\n"
     ]
    }
   ],
   "source": [
    "s = '1 2 3 4'\n",
    "print(list(map(int, s.split())))"
   ]
  },
  {
   "cell_type": "code",
   "execution_count": null,
   "id": "a20b230d",
   "metadata": {},
   "outputs": [],
   "source": []
  }
 ],
 "metadata": {
  "kernelspec": {
   "display_name": "Python 3 (ipykernel)",
   "language": "python",
   "name": "python3"
  },
  "language_info": {
   "codemirror_mode": {
    "name": "ipython",
    "version": 3
   },
   "file_extension": ".py",
   "mimetype": "text/x-python",
   "name": "python",
   "nbconvert_exporter": "python",
   "pygments_lexer": "ipython3",
   "version": "3.12.4"
  }
 },
 "nbformat": 4,
 "nbformat_minor": 5
}
