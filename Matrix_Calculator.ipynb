{
 "cells": [
  {
   "cell_type": "markdown",
   "id": "4c941eec",
   "metadata": {},
   "source": [
    "Importing Necessary Librraries"
   ]
  },
  {
   "cell_type": "code",
   "execution_count": null,
   "id": "5204b6d6",
   "metadata": {},
   "outputs": [],
   "source": [
    "import numpy as np\n",
    "import scipy.linalg as sclinalg\n",
    "from Class_MtxCalc import MatrixCalculator as mc"
   ]
  },
  {
   "cell_type": "markdown",
   "id": "c3eb4e38",
   "metadata": {},
   "source": [
    "Calculations that can be performed"
   ]
  },
  {
   "cell_type": "code",
   "execution_count": null,
   "id": "06211a64",
   "metadata": {},
   "outputs": [
    {
     "name": "stdout",
     "output_type": "stream",
     "text": [
      "Welcome to Matrix Calculator. Choose any of the following options\n",
      "\n",
      "(1) To add matrices\n",
      "(2) To multiply matrices\n",
      "(3) To find the inverse of a matrix\n",
      "(4) To find the determinant of a matrix\n",
      "(5) To find the eigenvalues & eigenvectors of a matrix\n",
      "(6) To find powers of a matrix\n",
      "(7) To find the functions operated on a matrix\n",
      "\n"
     ]
    }
   ],
   "source": [
    "print(\"Welcome to Matrix Calculator. Choose any of the following options\")\n",
    "print()\n",
    "print(\"(1) To add matrices\")\n",
    "print(\"(2) To multiply matrices\")\n",
    "print(\"(3) To find the inverse of a matrix\")\n",
    "print(\"(4) To find the determinant of a matrix\")\n",
    "print(\"(5) To diagonalise a matrix\")\n",
    "print(\"(6) To find the eigenvalues & eigenvectors of a matrix\")\n",
    "print(\"(7) To find powers of a matrix\")\n",
    "print(\"(8) To find the functions operated on a matrix\")\n",
    "print()\n",
    "choice = int(input())\n",
    "\n",
    "intro_text = \"\"\"Enter a row of a matrix, separarted by space, in the input field\n",
    "Enter x to stop entering the rows for a matrix\n",
    "Enter u to undo a row\"\"\""
   ]
  },
  {
   "cell_type": "markdown",
   "id": "56954659",
   "metadata": {},
   "source": [
    "Addition/Multiplication"
   ]
  },
  {
   "cell_type": "code",
   "execution_count": null,
   "id": "341d2835",
   "metadata": {},
   "outputs": [],
   "source": [
    "if choice == 1: #Addition\n",
    "    result = mc.add_multiply(dim_checker=mc.dim_check_add, is_add=True)\n",
    "    print(result)\n",
    "\n",
    "elif choice == 2:   #Multiplication\n",
    "    result = mc.add_multiply(dim_checker=mc.dim_check_mul, is_add=False)\n",
    "    print(result)"
   ]
  },
  {
   "cell_type": "markdown",
   "id": "b3b58f70",
   "metadata": {},
   "source": [
    "Inverse/Determinant"
   ]
  },
  {
   "cell_type": "code",
   "execution_count": null,
   "id": "953e1b28",
   "metadata": {},
   "outputs": [],
   "source": [
    "print(intro_text)\n",
    "print()\n",
    "matrix = mc.matrix_extractor()\n",
    "mtx = mc(matrix)\n",
    "print(f\"Matrix\\n{matrix}\")\n",
    "print()\n",
    "\n",
    "if choice == 3: #Inverse\n",
    "    print(\"Calculating Inverse...\")\n",
    "    result = mtx.inverse()\n",
    "\n",
    "elif choice == 4:   #Determinant\n",
    "    print(\"Calculating Determinant...\")\n",
    "    result = mtx.determinant()\n",
    "\n",
    "print(\"Result\\n{result}\")"
   ]
  },
  {
   "cell_type": "markdown",
   "id": "37aa11fb",
   "metadata": {},
   "source": [
    "Eigenvalues/Eigenvectors"
   ]
  },
  {
   "cell_type": "code",
   "execution_count": null,
   "id": "21a696f9",
   "metadata": {},
   "outputs": [],
   "source": [
    "if choice == 6: #Eigenvalues and eigenvectors of matrix\n",
    "    print(intro_text)\n",
    "    print()\n",
    "    matrix = mc.matrix_extractor()\n",
    "    print(\"Matrix:\\n\", mtx)\n",
    "    print()\n",
    "    mtx = mc(matrix)\n",
    "    eigen_data = mtx.eigen()   #Each element of eigen_data = (eigenvals, algebraic_multiplicity, list(Matrix(eigenvectors)))\n",
    "\n",
    "    for i in range(len(eigen_data)):\n",
    "        eigenvals = eigen_data[i][0]\n",
    "        eigenvects = eigen_data[i][1]\n",
    "        \n",
    "        print(f\"Eigenvalue {i+1}: {eigenvals}\")\n",
    "        print(f\"Eigenvector {i+1}:\\n{eigenvects}\")\n",
    "        print()"
   ]
  },
  {
   "cell_type": "markdown",
   "id": "88dc5b55",
   "metadata": {},
   "source": [
    "Powers of a Matrix"
   ]
  },
  {
   "cell_type": "code",
   "execution_count": null,
   "id": "c47a1a7d",
   "metadata": {},
   "outputs": [
    {
     "name": "stdout",
     "output_type": "stream",
     "text": [
      "Enter a row of a matrix, separarted by space, in the input field\n",
      "Enter x to stop entering the rows for a matrix\n",
      "\n",
      "\n",
      "Matrix:\n",
      "[[1 2]\n",
      " [5 4]]\n",
      "\n",
      "Result:\n",
      "[[ 61.  62.]\n",
      " [155. 154.]]\n"
     ]
    }
   ],
   "source": [
    "if choice == 7:\n",
    "    print(intro_text)\n",
    "    print()\n",
    "\n",
    "    matrix = mc.matrix_extractor()\n",
    "    mtx = mc(matrix)\n",
    "    print(f\"Matrix:\\n{matrix}\")\n",
    "    print()\n",
    "    pow = int(input(\"Enter the power to which the matrix is to be raised: \"))\n",
    "    result = mtx.power(pow)\n",
    "\n",
    "        #FINDING POWERS BY DIAGONALISATION\n",
    "        # eigenvals, eigenvects = np.linalg.eig(mtx)\n",
    "    \n",
    "        # mtx = PDP^(-1)     mtx^n = P(D^n)P^(-1)\n",
    "        # D = np.diag(eigenvals)\n",
    "        # P = eigenvects\n",
    "        # P_inv = np.linalg.inv(P)\n",
    "        # D_pow = np.linalg.matrix_power(D, pow)\n",
    "        \n",
    "        # result = P@D_pow@P_inv\n",
    "    print(f\"Result:\\n{result}\")\n"
   ]
  },
  {
   "cell_type": "markdown",
   "id": "685f8b21",
   "metadata": {},
   "source": [
    "Operations on a matrix"
   ]
  },
  {
   "cell_type": "code",
   "execution_count": null,
   "id": "214688c1",
   "metadata": {},
   "outputs": [],
   "source": [
    "choice = 8\n",
    "mtx = np.array([[1,2], [5,4]])\n",
    "\n",
    "if choice == 8:\n",
    "    print(\"Choose from one of the following operations: \")\n",
    "    print(\"(1) sin\")\n",
    "    print(\"(2) cos\")\n",
    "    print(\"(3) exponential\")\n",
    "    print(\"(4) logarithm\")\n",
    "    print(\"(5) sinh\")\n",
    "    print(\"(6) cosh\")\n",
    "\n",
    "    matrix = mc.matrix_extractor()\n",
    "    mtx = mc(matrix)\n",
    "    print(f\"Matrix:\\n{matrix}\")\n",
    "    print()\n",
    "    \n",
    "    while True:\n",
    "        option = int(input())\n",
    "        print()\n",
    "\n",
    "        if option == 1:\n",
    "            result = sclinalg.sinm(mtx)\n",
    "            break\n",
    "        elif option == 2:\n",
    "            result = sclinalg.cosm(mtx)\n",
    "            break\n",
    "        elif option == 3:\n",
    "            result = sclinalg.expm(mtx)\n",
    "            break\n",
    "        elif option == 4:\n",
    "            result = sclinalg.logm(mtx)\n",
    "            break\n",
    "        elif option == 5:\n",
    "            result = sclinalg.sinhm(mtx)\n",
    "            break\n",
    "        elif option == 6:\n",
    "            result = sclinalg.coshm(mtx)\n",
    "            break\n",
    "        else:\n",
    "            print(\"WRONG INPUT! Enter again\")\n",
    "    \n",
    "    print(f\"Result\\n{result}\")"
   ]
  },
  {
   "cell_type": "code",
   "execution_count": null,
   "id": "a20b230d",
   "metadata": {},
   "outputs": [],
   "source": []
  }
 ],
 "metadata": {
  "kernelspec": {
   "display_name": "Data_Analysis",
   "language": "python",
   "name": "python3"
  },
  "language_info": {
   "codemirror_mode": {
    "name": "ipython",
    "version": 3
   },
   "file_extension": ".py",
   "mimetype": "text/x-python",
   "name": "python",
   "nbconvert_exporter": "python",
   "pygments_lexer": "ipython3",
   "version": "3.12.3"
  }
 },
 "nbformat": 4,
 "nbformat_minor": 5
}
